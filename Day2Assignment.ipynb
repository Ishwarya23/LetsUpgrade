{
 "cells": [
  {
   "cell_type": "code",
   "execution_count": 10,
   "metadata": {},
   "outputs": [],
   "source": [
    "import numpy as np\n",
    "import pandas as pd\n",
    "import matplotlib.pyplot as plt\n",
    "import matplotlib as mpl\n",
    "import seaborn as sns\n",
    "%matplotlib inline"
   ]
  },
  {
   "cell_type": "markdown",
   "metadata": {},
   "source": [
    "Question 1"
   ]
  },
  {
   "cell_type": "markdown",
   "metadata": {},
   "source": [
    "x = [1,3,4,5,6,7,9]\n",
    "y = [4,7,2,4,7,8,3]\n",
    "\n",
    "x2 = [2,4,6,8,10]\n",
    "y2 = [5,6,2,6,2]\n",
    "\n",
    "plt.bar(x,y,label='X-Y compare',color='r')\n",
    "plt.bar(x2,y2,label='X2-Y2 compare',color='b')\n",
    "plt.xlabel(\"X AXIS\")\n",
    "plt.ylabel(\"Y AXIS\")\n",
    "plt.legend()"
   ]
  },
  {
   "cell_type": "markdown",
   "metadata": {},
   "source": [
    "Question 2"
   ]
  },
  {
   "cell_type": "markdown",
   "metadata": {},
   "source": [
    "create a datframe with 10rows on random numbers and 4 columns\n",
    "label column as a.b,c,d\n",
    "bar-chart"
   ]
  },
  {
   "cell_type": "code",
   "execution_count": 20,
   "metadata": {},
   "outputs": [
    {
     "data": {
      "text/html": [
       "<div>\n",
       "<style scoped>\n",
       "    .dataframe tbody tr th:only-of-type {\n",
       "        vertical-align: middle;\n",
       "    }\n",
       "\n",
       "    .dataframe tbody tr th {\n",
       "        vertical-align: top;\n",
       "    }\n",
       "\n",
       "    .dataframe thead th {\n",
       "        text-align: right;\n",
       "    }\n",
       "</style>\n",
       "<table border=\"1\" class=\"dataframe\">\n",
       "  <thead>\n",
       "    <tr style=\"text-align: right;\">\n",
       "      <th></th>\n",
       "      <th>a</th>\n",
       "      <th>b</th>\n",
       "      <th>c</th>\n",
       "      <th>d</th>\n",
       "    </tr>\n",
       "  </thead>\n",
       "  <tbody>\n",
       "    <tr>\n",
       "      <th>0</th>\n",
       "      <td>0.304661</td>\n",
       "      <td>1.057498</td>\n",
       "      <td>0.979778</td>\n",
       "      <td>1.198166</td>\n",
       "    </tr>\n",
       "    <tr>\n",
       "      <th>1</th>\n",
       "      <td>-0.694945</td>\n",
       "      <td>0.257042</td>\n",
       "      <td>0.705678</td>\n",
       "      <td>-0.639310</td>\n",
       "    </tr>\n",
       "    <tr>\n",
       "      <th>2</th>\n",
       "      <td>-1.189576</td>\n",
       "      <td>0.568693</td>\n",
       "      <td>-1.085358</td>\n",
       "      <td>0.312481</td>\n",
       "    </tr>\n",
       "    <tr>\n",
       "      <th>3</th>\n",
       "      <td>1.403816</td>\n",
       "      <td>-0.193501</td>\n",
       "      <td>-0.801525</td>\n",
       "      <td>-0.495493</td>\n",
       "    </tr>\n",
       "    <tr>\n",
       "      <th>4</th>\n",
       "      <td>-0.766060</td>\n",
       "      <td>0.006719</td>\n",
       "      <td>-1.019919</td>\n",
       "      <td>-0.855330</td>\n",
       "    </tr>\n",
       "    <tr>\n",
       "      <th>5</th>\n",
       "      <td>1.719936</td>\n",
       "      <td>1.244593</td>\n",
       "      <td>1.314254</td>\n",
       "      <td>1.258787</td>\n",
       "    </tr>\n",
       "    <tr>\n",
       "      <th>6</th>\n",
       "      <td>-0.553627</td>\n",
       "      <td>0.427338</td>\n",
       "      <td>-0.405053</td>\n",
       "      <td>-0.303345</td>\n",
       "    </tr>\n",
       "    <tr>\n",
       "      <th>7</th>\n",
       "      <td>-1.227187</td>\n",
       "      <td>2.374156</td>\n",
       "      <td>-0.142301</td>\n",
       "      <td>0.799344</td>\n",
       "    </tr>\n",
       "    <tr>\n",
       "      <th>8</th>\n",
       "      <td>0.506768</td>\n",
       "      <td>-0.721101</td>\n",
       "      <td>-0.128767</td>\n",
       "      <td>-0.290536</td>\n",
       "    </tr>\n",
       "    <tr>\n",
       "      <th>9</th>\n",
       "      <td>-0.863833</td>\n",
       "      <td>1.916958</td>\n",
       "      <td>-1.005594</td>\n",
       "      <td>-0.617665</td>\n",
       "    </tr>\n",
       "  </tbody>\n",
       "</table>\n",
       "</div>"
      ],
      "text/plain": [
       "          a         b         c         d\n",
       "0  0.304661  1.057498  0.979778  1.198166\n",
       "1 -0.694945  0.257042  0.705678 -0.639310\n",
       "2 -1.189576  0.568693 -1.085358  0.312481\n",
       "3  1.403816 -0.193501 -0.801525 -0.495493\n",
       "4 -0.766060  0.006719 -1.019919 -0.855330\n",
       "5  1.719936  1.244593  1.314254  1.258787\n",
       "6 -0.553627  0.427338 -0.405053 -0.303345\n",
       "7 -1.227187  2.374156 -0.142301  0.799344\n",
       "8  0.506768 -0.721101 -0.128767 -0.290536\n",
       "9 -0.863833  1.916958 -1.005594 -0.617665"
      ]
     },
     "execution_count": 20,
     "metadata": {},
     "output_type": "execute_result"
    }
   ],
   "source": [
    "from numpy.random import randn,randint\n",
    "x = pd.DataFrame(randn(10,4),columns=['a','b','c','d'])\n",
    "x"
   ]
  },
  {
   "cell_type": "code",
   "execution_count": 18,
   "metadata": {},
   "outputs": [
    {
     "data": {
      "text/plain": [
       "<BarContainer object of 10 artists>"
      ]
     },
     "execution_count": 18,
     "metadata": {},
     "output_type": "execute_result"
    },
    {
     "data": {
      "image/png": "[encoded data removed]",
      "text/plain": [
       "<Figure size 432x288 with 1 Axes>"
      ]
     },
     "metadata": {
      "needs_background": "light"
     },
     "output_type": "display_data"
    }
   ],
   "source": [
    "plt.bar(x.a,x.b,width=0.2)\n",
    "plt."
   ]
  },
  {
   "cell_type": "code",
   "execution_count": null,
   "metadata": {},
   "outputs": [],
   "source": []
  }
 ],
 "metadata": {
  "kernelspec": {
   "display_name": "Python 3",
   "language": "python",
   "name": "python3"
  },
  "language_info": {
   "codemirror_mode": {
    "name": "ipython",
    "version": 3
   },
   "file_extension": ".py",
   "mimetype": "text/x-python",
   "name": "python",
   "nbconvert_exporter": "python",
   "pygments_lexer": "ipython3",
   "version": "3.7.9"
  }
 },
 "nbformat": 4,
 "nbformat_minor": 4
}
