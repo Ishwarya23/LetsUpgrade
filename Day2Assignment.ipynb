{
 "cells": [
  {
   "cell_type": "code",
   "execution_count": 2,
   "metadata": {},
   "outputs": [],
   "source": [
    "import numpy as np\n",
    "import pandas as pd\n",
    "import matplotlib.pyplot as plt\n",
    "import matplotlib as mpl\n",
    "import seaborn as sns\n",
    "%matplotlib inline"
   ]
  },
  {
   "cell_type": "markdown",
   "metadata": {},
   "source": [
    "Question 1"
   ]
  },
  {
   "cell_type": "code",
   "execution_count": 3,
   "metadata": {},
   "outputs": [
    {
     "data": {
      "text/plain": [
       "<matplotlib.legend.Legend at 0x2a3610f5e08>"
      ]
     },
     "execution_count": 3,
     "metadata": {},
     "output_type": "execute_result"
    },
    {
     "data": {
      "image/png": "[encoded data removed]",
      "text/plain": [
       "<Figure size 432x288 with 1 Axes>"
      ]
     },
     "metadata": {
      "needs_background": "light"
     },
     "output_type": "display_data"
    }
   ],
   "source": [
    "x = [1,3,4,5,6,7,9]\n",
    "y = [4,7,2,4,7,8,3]\n",
    "\n",
    "x2 = [2,4,6,8,10]\n",
    "y2 = [5,6,2,6,2]\n",
    "\n",
    "plt.bar(x,y,label='X-Y compare',color='r')\n",
    "plt.bar(x2,y2,label='X2-Y2 compare',color='b')\n",
    "plt.xlabel(\"X AXIS\")\n",
    "plt.ylabel(\"Y AXIS\")\n",
    "plt.legend()"
   ]
  },
  {
   "cell_type": "markdown",
   "metadata": {},
   "source": [
    "Question 2"
   ]
  },
  {
   "cell_type": "markdown",
   "metadata": {},
   "source": [
    "create a datframe with 10rows on random numbers and 4 columns\n",
    "label column as a.b,c,d\n",
    "bar-chart"
   ]
  },
  {
   "cell_type": "code",
   "execution_count": 4,
   "metadata": {},
   "outputs": [
    {
     "data": {
      "text/html": [
       "<div>\n",
       "<style scoped>\n",
       "    .dataframe tbody tr th:only-of-type {\n",
       "        vertical-align: middle;\n",
       "    }\n",
       "\n",
       "    .dataframe tbody tr th {\n",
       "        vertical-align: top;\n",
       "    }\n",
       "\n",
       "    .dataframe thead th {\n",
       "        text-align: right;\n",
       "    }\n",
       "</style>\n",
       "<table border=\"1\" class=\"dataframe\">\n",
       "  <thead>\n",
       "    <tr style=\"text-align: right;\">\n",
       "      <th></th>\n",
       "      <th>a</th>\n",
       "      <th>b</th>\n",
       "      <th>c</th>\n",
       "      <th>d</th>\n",
       "    </tr>\n",
       "  </thead>\n",
       "  <tbody>\n",
       "    <tr>\n",
       "      <th>0</th>\n",
       "      <td>-0.839540</td>\n",
       "      <td>-0.458149</td>\n",
       "      <td>-0.761581</td>\n",
       "      <td>0.681483</td>\n",
       "    </tr>\n",
       "    <tr>\n",
       "      <th>1</th>\n",
       "      <td>1.624062</td>\n",
       "      <td>-0.968428</td>\n",
       "      <td>-0.881880</td>\n",
       "      <td>1.243354</td>\n",
       "    </tr>\n",
       "    <tr>\n",
       "      <th>2</th>\n",
       "      <td>-0.537000</td>\n",
       "      <td>-0.863496</td>\n",
       "      <td>-0.020139</td>\n",
       "      <td>-0.964353</td>\n",
       "    </tr>\n",
       "    <tr>\n",
       "      <th>3</th>\n",
       "      <td>-0.369976</td>\n",
       "      <td>-0.368692</td>\n",
       "      <td>-0.928374</td>\n",
       "      <td>1.580204</td>\n",
       "    </tr>\n",
       "    <tr>\n",
       "      <th>4</th>\n",
       "      <td>0.630331</td>\n",
       "      <td>-2.557244</td>\n",
       "      <td>1.483525</td>\n",
       "      <td>0.201759</td>\n",
       "    </tr>\n",
       "    <tr>\n",
       "      <th>5</th>\n",
       "      <td>-0.850695</td>\n",
       "      <td>0.024661</td>\n",
       "      <td>0.492177</td>\n",
       "      <td>0.702306</td>\n",
       "    </tr>\n",
       "    <tr>\n",
       "      <th>6</th>\n",
       "      <td>-1.777152</td>\n",
       "      <td>0.266881</td>\n",
       "      <td>-0.729556</td>\n",
       "      <td>-0.545375</td>\n",
       "    </tr>\n",
       "    <tr>\n",
       "      <th>7</th>\n",
       "      <td>-0.597194</td>\n",
       "      <td>-2.552871</td>\n",
       "      <td>2.207417</td>\n",
       "      <td>-0.112817</td>\n",
       "    </tr>\n",
       "    <tr>\n",
       "      <th>8</th>\n",
       "      <td>-1.040545</td>\n",
       "      <td>0.180173</td>\n",
       "      <td>0.267678</td>\n",
       "      <td>-0.286610</td>\n",
       "    </tr>\n",
       "    <tr>\n",
       "      <th>9</th>\n",
       "      <td>0.907191</td>\n",
       "      <td>-0.671238</td>\n",
       "      <td>-0.143726</td>\n",
       "      <td>0.539661</td>\n",
       "    </tr>\n",
       "  </tbody>\n",
       "</table>\n",
       "</div>"
      ],
      "text/plain": [
       "          a         b         c         d\n",
       "0 -0.839540 -0.458149 -0.761581  0.681483\n",
       "1  1.624062 -0.968428 -0.881880  1.243354\n",
       "2 -0.537000 -0.863496 -0.020139 -0.964353\n",
       "3 -0.369976 -0.368692 -0.928374  1.580204\n",
       "4  0.630331 -2.557244  1.483525  0.201759\n",
       "5 -0.850695  0.024661  0.492177  0.702306\n",
       "6 -1.777152  0.266881 -0.729556 -0.545375\n",
       "7 -0.597194 -2.552871  2.207417 -0.112817\n",
       "8 -1.040545  0.180173  0.267678 -0.286610\n",
       "9  0.907191 -0.671238 -0.143726  0.539661"
      ]
     },
     "execution_count": 4,
     "metadata": {},
     "output_type": "execute_result"
    }
   ],
   "source": [
    "from numpy.random import randn,randint\n",
    "x = pd.DataFrame(randn(10,4),columns=['a','b','c','d'])\n",
    "x"
   ]
  },
  {
   "cell_type": "code",
   "execution_count": 5,
   "metadata": {},
   "outputs": [
    {
     "data": {
      "text/plain": [
       "Text(0.5, 1.0, 'BAR PLOT')"
      ]
     },
     "execution_count": 5,
     "metadata": {},
     "output_type": "execute_result"
    },
    {
     "data": {
      "image/png": "[encoded data removed]",
      "text/plain": [
       "<Figure size 432x288 with 1 Axes>"
      ]
     },
     "metadata": {
      "needs_background": "light"
     },
     "output_type": "display_data"
    }
   ],
   "source": [
    "plt.bar(x.a,x.b,width=0.2)\n",
    "plt.xlabel('X AXIS')\n",
    "plt.ylabel('Y AXIS')\n",
    "plt.title('BAR PLOT')"
   ]
  },
  {
   "cell_type": "code",
   "execution_count": null,
   "metadata": {},
   "outputs": [],
   "source": []
  }
 ],
 "metadata": {
  "kernelspec": {
   "display_name": "Python 3",
   "language": "python",
   "name": "python3"
  },
  "language_info": {
   "codemirror_mode": {
    "name": "ipython",
    "version": 3
   },
   "file_extension": ".py",
   "mimetype": "text/x-python",
   "name": "python",
   "nbconvert_exporter": "python",
   "pygments_lexer": "ipython3",
   "version": "3.7.9"
  }
 },
 "nbformat": 4,
 "nbformat_minor": 4
}
